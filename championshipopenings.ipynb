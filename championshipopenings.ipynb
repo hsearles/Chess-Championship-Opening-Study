{
 "cells": [
  {
   "cell_type": "code",
   "execution_count": 1,
   "metadata": {},
   "outputs": [],
   "source": [
    "import pandas as pd"
   ]
  },
  {
   "cell_type": "code",
   "execution_count": 25,
   "metadata": {},
   "outputs": [
    {
     "name": "stdout",
     "output_type": "stream",
     "text": [
      "       Game                                       Opening  \\\n",
      "0    Game 1                             Ruy Lopez: Closed   \n",
      "1    Game 2                       Catalan Opening: Closed   \n",
      "2    Game 3              Ruy Lopez: Closed, Anti-Marshall   \n",
      "3    Game 4                Russian Game: Classical Attack   \n",
      "4    Game 5              Ruy Lopez: Closed, Anti-Marshall   \n",
      "5    Game 6      Queen`s Pawn Game: Symmetrical Variation   \n",
      "6   Game  7              Ruy Lopez: Closed, Anti-Marshall   \n",
      "7    Game 8                   Russian Game: Modern Attack   \n",
      "8    Game 9            English Opening: Agincourt Defense   \n",
      "9   Game 10  Russian Game: Karklins-Martinovsky Variation   \n",
      "10  Game 11               Italian Game: Giuoco Pianissimo   \n",
      "\n",
      "   Opening Classification    White Player    Black Player  \n",
      "0                     C88  Nepomniachtchi         Carlsen  \n",
      "1                     E06         Carlsen  Nepomniachtchi  \n",
      "2                     C88  Nepomniachtchi         Carlsen  \n",
      "3                     C42         Carlsen  Nepomniachtchi  \n",
      "4                     C88  Nepomniachtchi         Carlsen  \n",
      "5                     D02         Carlsen  Nepomniachtchi  \n",
      "6                     C88  Nepomniachtchi         Carlsen  \n",
      "7                     C43         Carlsen  Nepomniachtchi  \n",
      "8                     A13  Nepomniachtchi         Carlsen  \n",
      "9                     C42         Carlsen  Nepomniachtchi  \n",
      "10                    C53  Nepomniachtchi         Carlsen  \n"
     ]
    }
   ],
   "source": [
    "#Data derived from Lichess\n",
    "#World Championship 2021, Magnus Carlsen (7.5) v. Ian Nepomniachtchi (3.5)\n",
    "Championship2021data = {\n",
    "'Game':[ 'Game 1', 'Game 2', 'Game 3', 'Game 4', 'Game 5', 'Game 6', 'Game  7', 'Game 8', 'Game 9', 'Game 10', 'Game 11' ],\n",
    "'Opening':[ 'Ruy Lopez: Closed', 'Catalan Opening: Closed', 'Ruy Lopez: Closed, Anti-Marshall', 'Russian Game: Classical Attack', \n",
    "    'Ruy Lopez: Closed, Anti-Marshall', 'Queen`s Pawn Game: Symmetrical Variation', 'Ruy Lopez: Closed, Anti-Marshall', 'Russian Game: Modern Attack',\n",
    "    'English Opening: Agincourt Defense', 'Russian Game: Karklins-Martinovsky Variation', 'Italian Game: Giuoco Pianissimo' ],\n",
    "'Opening Classification': ['C88', 'E06', 'C88', 'C42', 'C88', 'D02', 'C88', 'C43', 'A13', 'C42', 'C53' ],\n",
    "'White Player': ['Nepomniachtchi', 'Carlsen', 'Nepomniachtchi', 'Carlsen', 'Nepomniachtchi', 'Carlsen', 'Nepomniachtchi', 'Carlsen', \n",
    "    'Nepomniachtchi', 'Carlsen', 'Nepomniachtchi'],\n",
    "'Black Player': ['Carlsen', 'Nepomniachtchi', 'Carlsen', 'Nepomniachtchi', 'Carlsen', 'Nepomniachtchi', 'Carlsen', 'Nepomniachtchi', \n",
    "    'Carlsen', 'Nepomniachtchi', 'Carlsen']\n",
    "}\n",
    "# Create DataFrame\n",
    "\n",
    "Championship2021df = pd.DataFrame(Championship2021data)\n",
    "\n",
    "print(Championship2021df)"
   ]
  },
  {
   "cell_type": "code",
   "execution_count": null,
   "metadata": {},
   "outputs": [],
   "source": []
  }
 ],
 "metadata": {
  "interpreter": {
   "hash": "1d1b13127b04329652edb67ca0bda96514b7107223cacfc135cd594cc3cca4a0"
  },
  "kernelspec": {
   "display_name": "Python 3.8.8 ('base')",
   "language": "python",
   "name": "python3"
  },
  "language_info": {
   "codemirror_mode": {
    "name": "ipython",
    "version": 3
   },
   "file_extension": ".py",
   "mimetype": "text/x-python",
   "name": "python",
   "nbconvert_exporter": "python",
   "pygments_lexer": "ipython3",
   "version": "3.8.8"
  },
  "orig_nbformat": 4
 },
 "nbformat": 4,
 "nbformat_minor": 2
}
